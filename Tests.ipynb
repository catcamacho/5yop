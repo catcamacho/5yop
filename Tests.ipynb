{
 "cells": [
  {
   "cell_type": "markdown",
   "metadata": {},
   "source": [
    "File for miscellaneous tests"
   ]
  },
  {
   "cell_type": "code",
   "execution_count": 30,
   "metadata": {},
   "outputs": [
    {
     "name": "stdout",
     "output_type": "stream",
     "text": [
      "191008-16:48:17,680 nipype.workflow INFO:\n",
      "\t [Node] Setting-up \"selectFiles\" in \"/private/var/folders/ph/j5x02vfx3hq394dq8nzs14mw0000gn/T/tmpkrffe9lx/selectFiles\".\n",
      "191008-16:48:17,697 nipype.workflow INFO:\n",
      "\t [Node] Running \"selectFiles\" (\"nipype.interfaces.io.SelectFiles\")\n",
      "191008-16:48:17,710 nipype.workflow INFO:\n",
      "\t [Node] Finished \"selectFiles\".\n"
     ]
    },
    {
     "data": {
      "text/plain": [
       "\n",
       "test = /Users/jsolgama/Desktop/tests/msg.rtf"
      ]
     },
     "execution_count": 30,
     "metadata": {},
     "output_type": "execute_result"
    }
   ],
   "source": [
    "from nipype.interfaces.io import SelectFiles\n",
    "from nipype.pipeline.engine import Workflow, Node\n",
    "import os\n",
    "\n",
    "template = {'test': 'msg.rtf'}\n",
    "sf = Node(SelectFiles(template),\n",
    "         name='selectFiles')\n",
    "sf.inputs.base_directory = os.getcwd()\n",
    "sf.run().outputs"
   ]
  },
  {
   "cell_type": "code",
   "execution_count": null,
   "metadata": {},
   "outputs": [],
   "source": []
  },
  {
   "cell_type": "code",
   "execution_count": null,
   "metadata": {},
   "outputs": [],
   "source": []
  }
 ],
 "metadata": {
  "kernelspec": {
   "display_name": "Python 3",
   "language": "python",
   "name": "python3"
  },
  "language_info": {
   "codemirror_mode": {
    "name": "ipython",
    "version": 3
   },
   "file_extension": ".py",
   "mimetype": "text/x-python",
   "name": "python",
   "nbconvert_exporter": "python",
   "pygments_lexer": "ipython3",
   "version": "3.7.4"
  }
 },
 "nbformat": 4,
 "nbformat_minor": 2
}
