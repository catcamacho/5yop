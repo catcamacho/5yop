{
 "cells": [
  {
   "cell_type": "code",
   "execution_count": null,
   "metadata": {},
   "outputs": [],
   "source": [
    "from nipype.interfaces.io import DataSink, SelectFiles, DataGrabber, FreeSurferSource # Data i/o\n",
    "from nipype.interfaces.utility import IdentityInterface, Function     # utility\n",
    "from nipype.pipeline.engine import Node, Workflow, MapNode, JoinNode        # pypeline engine\n",
    "from pandas import DataFrame, read_csv\n",
    "\n",
    "#set output file type for FSL to NIFTI_GZ\n",
    "from nipype.interfaces.fsl.preprocess import FSLCommand\n",
    "FSLCommand.set_default_output_type('NIFTI_GZ')\n",
    "\n",
    "# MATLAB setup - Specify path to current SPM and the MATLAB's default mode\n",
    "from nipype.interfaces.matlab import MatlabCommand\n",
    "MatlabCommand.set_default_paths('~/spm12/toolbox')\n",
    "MatlabCommand.set_default_matlab_cmd(\"matlab -nodesktop -nosplash\")\n",
    "\n",
    "# Set study variables\n",
    "study_home = '/data/perlman/moochie/user_data/CamachoCat/5YOP'\n",
    "preproc_dir = study_home + '/proc/preprocessing'\n",
    "hcpproc_dir = study_home + '/proc/hcp_proc'\n",
    "output_dir = study_home + '/proc/rest_mapping'\n",
    "workflow_dir = study_home + '/workflows'\n",
    "#session_info = read_csv(study_home + '/misc/session_info.csv',index_col=None)\n",
    "#session_info = session_info.astype({'subject_id':str})\n",
    "#subject_ids = session_info['subject_id'].unique().tolist()\n",
    "#subject_ids = list(map(str,subject_ids))\n",
    "subject_ids = ['5000']\n",
    "\n",
    "proc_cores = 6 # number of cores of processing for the workflows"
   ]
  },
  {
   "cell_type": "code",
   "execution_count": null,
   "metadata": {},
   "outputs": [],
   "source": [
    "## Data handling nodes\n",
    "# grab data\n",
    "\n",
    "\n",
    "# sink data\n"
   ]
  },
  {
   "cell_type": "code",
   "execution_count": null,
   "metadata": {},
   "outputs": [],
   "source": [
    "# create index for cifti file\n",
    "\n",
    "\n",
    "# pull data from the same slice for each file\n",
    "\n",
    "\n",
    "# run models on data\n",
    "\n",
    "\n",
    "# reconstitute the results into a cifti file\n",
    "\n"
   ]
  },
  {
   "cell_type": "code",
   "execution_count": null,
   "metadata": {},
   "outputs": [],
   "source": []
  }
 ],
 "metadata": {
  "kernelspec": {
   "display_name": "python3.6",
   "language": "python",
   "name": "python3"
  },
  "language_info": {
   "codemirror_mode": {
    "name": "ipython",
    "version": 3
   },
   "file_extension": ".py",
   "mimetype": "text/x-python",
   "name": "python",
   "nbconvert_exporter": "python",
   "pygments_lexer": "ipython3",
   "version": "3.8.0"
  }
 },
 "nbformat": 4,
 "nbformat_minor": 4
}
