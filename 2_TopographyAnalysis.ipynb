{
 "cells": [
  {
   "cell_type": "code",
   "execution_count": null,
   "metadata": {},
   "outputs": [],
   "source": [
    "# Set study variables\n",
    "study_home = '/data/perlman/moochie/user_data/CamachoCat/5YOP'\n",
    "input_dir = study_home + '/hcp_proc'\n",
    "output_dir = study_home + '/proc/rest_mapping'\n",
    "subject_id = '3000'"
   ]
  },
  {
   "cell_type": "code",
   "execution_count": null,
   "metadata": {},
   "outputs": [],
   "source": [
    "# load data\n",
    "import hcp_utils as hcp\n",
    "import nibabel as nib\n",
    "import numpy as np\n",
    "\n",
    "func_data_file = input_dir +'/{0}/MNINonLinear/Results/movie/movie_Atlas.dconn.nii'.format(subject_id)\n",
    "func_img = nib.load(func_data_file)\n",
    "hemi2_func_data = func_img.get_fdata()\n",
    "hemi1_func_data = hemi2_func_data[:29696,:29696]\n",
    "hemi2_func_data = hemi2_func_data[29696:59412,29696:59412]"
   ]
  },
  {
   "cell_type": "code",
   "execution_count": null,
   "metadata": {},
   "outputs": [],
   "source": [
    "labels = [str(a) for a in range(0,hemi1_func_data.shape[0])]\n",
    "\n",
    "nodes_weights = open('movie_h1_nodes_nothresh_weights.txt','a')\n",
    "y=0\n",
    "while y < hemi1_func_data.shape[0]:\n",
    "    for x in range(y,hemi1_func_data.shape[0]-1):\n",
    "        #z = 0.5*(np.log10(1+hemi1_func_data[x,x+1]) - np.log10(1-hemi1_func_data[x,x+1]))\n",
    "        #if z>0.05:\n",
    "        nodes_weights.write('{0} {1} {2}\\n'.format(labels[x],labels[x+1],hemi1_func_data[x,x+1]))\n",
    "    y = y+1\n",
    "    \n",
    "    \n",
    "nodes_weights = open('movie_h2_nodes_nothresh_weights.txt','a')\n",
    "labels = [str(a + 29696) for a in range(0,hemi2_func_data.shape[0])]   \n",
    "y=0\n",
    "while y < hemi2_func_data.shape[0]:\n",
    "    for x in range(y,hemi2_func_data.shape[0]-1):\n",
    "        #z = 0.5*(np.log10(1+hemi2_func_data[x,x+1]) - np.log10(1-hemi2_func_data[x,x+1]))\n",
    "        #if z>0.05:\n",
    "        nodes_weights.write('{0} {1} {2}\\n'.format(labels[x],labels[x+1],hemi2_func_data[x,x+1]))\n",
    "    y = y+1"
   ]
  },
  {
   "cell_type": "code",
   "execution_count": null,
   "metadata": {},
   "outputs": [],
   "source": [
    "import nibabel as nib\n",
    "import numpy as np\n",
    "orig_img = nib.load('/data/perlman/moochie/user_data/CamachoCat/5YOP/hcp_proc/3000/MNINonLinear/Results/firstvol/firstvol_Atlas.dtseries.nii')\n",
    "orig_data = orig_img.get_fdata()\n",
    "print(orig_data.shape)\n",
    "new_data = np.zeros(orig_data.shape)"
   ]
  },
  {
   "cell_type": "code",
   "execution_count": null,
   "metadata": {},
   "outputs": [],
   "source": [
    "from igraph import Graph\n",
    "import random\n",
    "random.seed(540000)\n",
    "gnodes = Graph.Read_Ncol('fixation_h1_nodes_nothresh_weights.txt', names=('node1','node2','weight'), weights=True)\n",
    "mods1 = gnodes.community_infomap(edge_weights='weight',trials=8) "
   ]
  },
  {
   "cell_type": "code",
   "execution_count": null,
   "metadata": {},
   "outputs": [],
   "source": [
    "import numpy as np\n",
    "net1_labels = np.array(mods1.membership) + 1\n",
    "n,c=np.unique(net1_labels,return_counts=True)\n",
    "print(n)\n",
    "print(c)"
   ]
  },
  {
   "cell_type": "code",
   "execution_count": null,
   "metadata": {},
   "outputs": [],
   "source": [
    "for i in range(0,len(n)):\n",
    "    if c[i]<100:\n",
    "        net1_labels[net1_labels==n[i]]=0"
   ]
  },
  {
   "cell_type": "code",
   "execution_count": null,
   "metadata": {},
   "outputs": [],
   "source": [
    "print(net1_labels.shape)\n",
    "new_data[0,0:29696] = net1_labels"
   ]
  },
  {
   "cell_type": "code",
   "execution_count": null,
   "metadata": {},
   "outputs": [],
   "source": [
    "new_img = nib.cifti2.cifti2.Cifti2Image(new_data, header = orig_img.header, nifti_header=orig_img.nifti_header)\n",
    "nib.save(new_img, 'fixation_left_hemi.dtseries.nii')"
   ]
  },
  {
   "cell_type": "code",
   "execution_count": null,
   "metadata": {},
   "outputs": [],
   "source": [
    "gnodes2 = Graph.Read_Ncol('fixation_h2_nodes_nothresh_weights.txt', names=('node1','node2','weight'), weights=True, directed=True)\n",
    "mods2 = gnodes2.community_infomap(edge_weights='weight',trials=8) "
   ]
  },
  {
   "cell_type": "code",
   "execution_count": null,
   "metadata": {},
   "outputs": [],
   "source": [
    "net2_labels = np.array(mods2.membership) + 1\n",
    "n,c=np.unique(net2_labels,return_counts=True)\n",
    "print(n)\n",
    "print(c)"
   ]
  },
  {
   "cell_type": "code",
   "execution_count": null,
   "metadata": {},
   "outputs": [],
   "source": [
    "for i in range(0,len(n)):\n",
    "    if c[i]<100:\n",
    "        net2_labels[net2_labels==n[i]]=0"
   ]
  },
  {
   "cell_type": "code",
   "execution_count": null,
   "metadata": {},
   "outputs": [],
   "source": [
    "print(net2_labels.shape)\n",
    "new_data[0,29696:59412] = net2_labels"
   ]
  },
  {
   "cell_type": "code",
   "execution_count": null,
   "metadata": {},
   "outputs": [],
   "source": [
    "new_img = nib.cifti2.cifti2.Cifti2Image(new_data, header = orig_img.header, nifti_header=orig_img.nifti_header)\n",
    "nib.save(new_img, 'fixation_right_hemi.dtseries.nii')"
   ]
  },
  {
   "cell_type": "code",
   "execution_count": null,
   "metadata": {},
   "outputs": [],
   "source": []
  }
 ],
 "metadata": {
  "kernelspec": {
   "display_name": "python3.6",
   "language": "python",
   "name": "python3"
  },
  "language_info": {
   "codemirror_mode": {
    "name": "ipython",
    "version": 3
   },
   "file_extension": ".py",
   "mimetype": "text/x-python",
   "name": "python",
   "nbconvert_exporter": "python",
   "pygments_lexer": "ipython3",
   "version": "3.8.0"
  }
 },
 "nbformat": 4,
 "nbformat_minor": 4
}
