{
 "cells": [
  {
   "cell_type": "markdown",
   "metadata": {},
   "source": [
    "# Myelin Mapping Notebook\n",
    "\n",
    "These workflows process T1 and T2 weighted images to then be used to quantify cortical myelin content per methods described in Gordon et al., 2017 (doi: 10.1016/j.neuron.2017.07.011)"
   ]
  },
  {
   "cell_type": "code",
   "execution_count": 1,
   "metadata": {},
   "outputs": [],
   "source": [
    "# Import all othe functions/nodes being used\n",
    "from nipype.pipeline.engine import Workflow, Node, MapNode\n",
    "from nipype.interfaces.utility import IdentityInterface, Function\n",
    "from nipype.interfaces.io import SelectFiles, DataSink, DataGrabber, FreeSurferSource\n",
    "from nipype.interfaces.fsl import FSLCommand, BET, Reorient2Std, FAST\n",
    "from nipype.interfaces.freesurfer import BBRegister, Binarize, ReconAll, MRIConvert\n",
    "from nipype.interfaces.ants import N4BiasFieldCorrection\n",
    "from pandas import read_csv\n",
    "\n",
    "# Declare study-specific variables\n",
    "setup='Jay'\n",
    "\n",
    "if setup=='Jay':\n",
    "    study_home = '/Users/dendrite/Desktop/Jay'\n",
    "    raw_data = study_home + '/raw'\n",
    "    subject_ids = '3000'\n",
    "elif setup=='Cat':\n",
    "    study_home = '/moochie/user_data/CamachoCat/5YOP'\n",
    "    raw_data = '/moochie/study_data/5YOP/MRI_processing'\n",
    "    temp_fs_dir = '/home/camachocm2/Analysis/5YOP/freesurfer'\n",
    "    session_info = read_csv(study_home + '/misc/session_info.csv',index_col=None)\n",
    "    subject_ids = session_info['subject_id'].unique().tolist()\n",
    "    subject_ids = map(str,subject_ids)\n",
    "    \n",
    "output_dir = study_home + '/proc'\n",
    "workflow_dir = study_home + '/workflows'\n",
    "fs_dir = study_home + '/freesurfer'\n",
    "\n",
    "\n",
    "# Set any processing settings\n",
    "FSLCommand.set_default_output_type('NIFTI_GZ')"
   ]
  },
  {
   "cell_type": "code",
   "execution_count": 2,
   "metadata": {},
   "outputs": [],
   "source": [
    "# Identity node- select subjects\n",
    "infosource = Node(IdentityInterface(fields=['subject_id']),\n",
    "                     name='infosource')\n",
    "\n",
    "# Selectfiles node to grab subject T2w data\n",
    "if setup=='Jay':\n",
    "    infosource.inputs.subject_id = subject_ids\n",
    "    t2w_templates = {'T2anat': raw_data + '/t2w_2.nii.gz'}\n",
    "elif setup=='Cat':\n",
    "    infosource.iterables = ('subject_id', subject_ids)\n",
    "    t2w_templates = {'T2anat': raw_data + '/{subject_id}/ANAT_NIFTIS/t2w_2.nii.gz'}\n",
    "t2w_source = Node(SelectFiles(t2w_templates), name='t2w_source')\n",
    "\n",
    "# datasink node\n",
    "datasink = Node(DataSink(base_directory=output_dir), name='datasink')"
   ]
  },
  {
   "cell_type": "markdown",
   "metadata": {},
   "source": [
    "## Preprocess T1w data"
   ]
  },
  {
   "cell_type": "code",
   "execution_count": 3,
   "metadata": {},
   "outputs": [],
   "source": [
    "# grab raw T1-weighted images and process through freesurfer\n",
    "t1w_template = {'t1_anats':raw_data + '/%s/ANAT_NIFTIS/t1w_*.nii.gz'}\n",
    "t1w_source = Node(DataGrabber(base_directory = raw_data, \n",
    "                              field_template = t1w_template,\n",
    "                              template=raw_data + '/%s/ANAT_NIFTIS/t1w_*.nii.gz',\n",
    "                              sort_filelist=True,\n",
    "                              in_fields=['subject_id'],\n",
    "                              outfields=['t1_anats'],\n",
    "                              template_args={'t1_anats':[['subject_id']]}), \n",
    "                  name='t1w_source')\n",
    "\n",
    "#process through recon-all\n",
    "reconall = Node(ReconAll(directive='all',flags='-gcut',openmp=4,\n",
    "                         subjects_dir=fs_dir,use_T2=True), name='reconall')"
   ]
  },
  {
   "cell_type": "code",
   "execution_count": null,
   "metadata": {},
   "outputs": [],
   "source": [
    "fs_proc = Workflow(name='freesurfer_proc_flow')\n",
    "fs_proc.connect([(infosource, t1w_source, [('subject_id','subject_id')]),\n",
    "                 (infosource, t2w_source, [('subject_id','subject_id')]),\n",
    "                 (infosource, reconall, [('subject_id','subject_id')]),\n",
    "                 (t1w_source, reconall, [('t1_anats','T1_files')]), \n",
    "                 (t2w_source, reconall, [('T2anat','T2_file')])\n",
    "                ])\n",
    "fs_proc.base_dir = workflow_dir\n",
    "fs_proc.write_graph(graph2use='flat')\n",
    "fs_proc.run('MultiProc', plugin_args={'n_procs': 10, 'memory_gb': 20})"
   ]
  },
  {
   "cell_type": "markdown",
   "metadata": {},
   "source": [
    "## Preprocess T2w data\n",
    "The nodes and workflow below preprocess T2-weighted images to match T1-weighted data processed externally using FreeSurfer v6."
   ]
  },
  {
   "cell_type": "code",
   "execution_count": 29,
   "metadata": {},
   "outputs": [],
   "source": [
    "#Function to quantify T1/T2 ratio\n",
    "def quantify_ratio(T1_file, T2_file):\n",
    "    from nibabel import load, save, Nifti1Image\n",
    "    from numpy import divide, zeros\n",
    "    \n",
    "    #import images\n",
    "    t1w_img = load(T1_file)\n",
    "    t2w_img = load(T2_file)\n",
    "    t1w_data = t1w_img.get_data()\n",
    "    t2w_data = t2w_img.get_data()\n",
    "    \n",
    "    #calculate ratio and create new image\n",
    "    ratio_data = divide(t1w_data, t2w_data)\n",
    "    ratio_img = Nifti1Image(ratio_data, header=t2w_img.header, affine=t2w_img.affine)\n",
    "    save(ratio_img, 'ratio_image.nii.gz')\n",
    "    return ratio_img\n"
   ]
  },
  {
   "cell_type": "code",
   "execution_count": 5,
   "metadata": {},
   "outputs": [],
   "source": [
    "# FreeSurferSource node to grab processed T1w data from freesurfer\n",
    "t1w_source = Node(FreeSurferSource(subjects_dir=fs_dir), name='t1w_source')\n",
    "\n",
    "# skullstrip the T2w using BET (FSL)\n",
    "t2strip = Node(BET(), name='t2strip')\n",
    "\n",
    "# N4 bias correction of the T2w data (ANTs)\n",
    "bias_correct = Node(N4BiasFieldCorrection(),name='bias_correct')\n",
    "\n",
    "# Reorient T2w to standard\n",
    "reorient_t2w = Node(Reorient2Std(), name='reorient_t2w')\n",
    "\n",
    "# Register T2w to T1w using FreeSurfer's Boundary-Based Registration\n",
    "register = Node(BBRegister(subjects_dir = fs_dir, contrast_type='t2'), name='register')\n",
    "\n",
    "# Reslice T2 image to match T1 image\n",
    "reslice = Node(MRIConvert(), name='reslice')\n",
    "\n",
    "#Calculate T1/T2 ratio\n",
    "quantify_ratio = Node(Function(input_names=['T1_file', 'T2_file'], \n",
    "                           output_names=['ratio_img'], \n",
    "                           function=quantify_ratio), name='quantify_ratio')\n"
   ]
  },
  {
   "cell_type": "code",
   "execution_count": 22,
   "metadata": {},
   "outputs": [
    {
     "ename": "AttributeError",
     "evalue": "'function' object has no attribute 'name'",
     "output_type": "error",
     "traceback": [
      "\u001b[0;31m---------------------------------------------------------------------------\u001b[0m",
      "\u001b[0;31mAttributeError\u001b[0m                            Traceback (most recent call last)",
      "\u001b[0;32m<ipython-input-22-4eeedd9ab04e>\u001b[0m in \u001b[0;36m<module>\u001b[0;34m()\u001b[0m\n\u001b[1;32m     14\u001b[0m                        \u001b[0;34m(\u001b[0m\u001b[0mt2strip\u001b[0m\u001b[0;34m,\u001b[0m \u001b[0mdatasink\u001b[0m\u001b[0;34m,\u001b[0m\u001b[0;34m[\u001b[0m\u001b[0;34m(\u001b[0m\u001b[0;34m'out_file'\u001b[0m\u001b[0;34m,\u001b[0m\u001b[0;34m'skullstripped_t2w'\u001b[0m\u001b[0;34m)\u001b[0m\u001b[0;34m]\u001b[0m\u001b[0;34m)\u001b[0m\u001b[0;34m,\u001b[0m\u001b[0;34m\u001b[0m\u001b[0m\n\u001b[1;32m     15\u001b[0m                        \u001b[0;34m(\u001b[0m\u001b[0mreslice\u001b[0m\u001b[0;34m,\u001b[0m \u001b[0mdatasink\u001b[0m\u001b[0;34m,\u001b[0m\u001b[0;34m[\u001b[0m\u001b[0;34m(\u001b[0m\u001b[0;34m'out_file'\u001b[0m\u001b[0;34m,\u001b[0m\u001b[0;34m'resliced_t2w'\u001b[0m\u001b[0;34m)\u001b[0m\u001b[0;34m]\u001b[0m\u001b[0;34m)\u001b[0m\u001b[0;34m,\u001b[0m\u001b[0;34m\u001b[0m\u001b[0m\n\u001b[0;32m---> 16\u001b[0;31m                        \u001b[0;34m(\u001b[0m\u001b[0mregister\u001b[0m\u001b[0;34m,\u001b[0m \u001b[0mdatasink\u001b[0m\u001b[0;34m,\u001b[0m\u001b[0;34m[\u001b[0m\u001b[0;34m(\u001b[0m\u001b[0;34m'registered_file'\u001b[0m\u001b[0;34m,\u001b[0m\u001b[0;34m'registered_t2w'\u001b[0m\u001b[0;34m)\u001b[0m\u001b[0;34m]\u001b[0m\u001b[0;34m)\u001b[0m\u001b[0;34m\u001b[0m\u001b[0m\n\u001b[0m\u001b[1;32m     17\u001b[0m                        ])\n\u001b[1;32m     18\u001b[0m \u001b[0;34m\u001b[0m\u001b[0m\n",
      "\u001b[0;32m/Library/Frameworks/Python.framework/Versions/3.6/lib/python3.6/site-packages/nipype/pipeline/engine/workflows.py\u001b[0m in \u001b[0;36mconnect\u001b[0;34m(self, *args, **kwargs)\u001b[0m\n\u001b[1;32m    153\u001b[0m                 \u001b[0mnewnodes\u001b[0m\u001b[0;34m.\u001b[0m\u001b[0mappend\u001b[0m\u001b[0;34m(\u001b[0m\u001b[0mdestnode\u001b[0m\u001b[0;34m)\u001b[0m\u001b[0;34m\u001b[0m\u001b[0m\n\u001b[1;32m    154\u001b[0m         \u001b[0;32mif\u001b[0m \u001b[0mnewnodes\u001b[0m\u001b[0;34m:\u001b[0m\u001b[0;34m\u001b[0m\u001b[0m\n\u001b[0;32m--> 155\u001b[0;31m             \u001b[0mself\u001b[0m\u001b[0;34m.\u001b[0m\u001b[0m_check_nodes\u001b[0m\u001b[0;34m(\u001b[0m\u001b[0mnewnodes\u001b[0m\u001b[0;34m)\u001b[0m\u001b[0;34m\u001b[0m\u001b[0m\n\u001b[0m\u001b[1;32m    156\u001b[0m             \u001b[0;32mfor\u001b[0m \u001b[0mnode\u001b[0m \u001b[0;32min\u001b[0m \u001b[0mnewnodes\u001b[0m\u001b[0;34m:\u001b[0m\u001b[0;34m\u001b[0m\u001b[0m\n\u001b[1;32m    157\u001b[0m                 \u001b[0;32mif\u001b[0m \u001b[0mnode\u001b[0m\u001b[0;34m.\u001b[0m\u001b[0m_hierarchy\u001b[0m \u001b[0;32mis\u001b[0m \u001b[0;32mNone\u001b[0m\u001b[0;34m:\u001b[0m\u001b[0;34m\u001b[0m\u001b[0m\n",
      "\u001b[0;32m/Library/Frameworks/Python.framework/Versions/3.6/lib/python3.6/site-packages/nipype/pipeline/engine/workflows.py\u001b[0m in \u001b[0;36m_check_nodes\u001b[0;34m(self, nodes)\u001b[0m\n\u001b[1;32m    715\u001b[0m         \u001b[0mnode_lineage\u001b[0m \u001b[0;34m=\u001b[0m \u001b[0;34m[\u001b[0m\u001b[0mnode\u001b[0m\u001b[0;34m.\u001b[0m\u001b[0m_hierarchy\u001b[0m \u001b[0;32mfor\u001b[0m \u001b[0mnode\u001b[0m \u001b[0;32min\u001b[0m \u001b[0mself\u001b[0m\u001b[0;34m.\u001b[0m\u001b[0m_graph\u001b[0m\u001b[0;34m.\u001b[0m\u001b[0mnodes\u001b[0m\u001b[0;34m(\u001b[0m\u001b[0;34m)\u001b[0m\u001b[0;34m]\u001b[0m\u001b[0;34m\u001b[0m\u001b[0m\n\u001b[1;32m    716\u001b[0m         \u001b[0;32mfor\u001b[0m \u001b[0mnode\u001b[0m \u001b[0;32min\u001b[0m \u001b[0mnodes\u001b[0m\u001b[0;34m:\u001b[0m\u001b[0;34m\u001b[0m\u001b[0m\n\u001b[0;32m--> 717\u001b[0;31m             \u001b[0;32mif\u001b[0m \u001b[0mnode\u001b[0m\u001b[0;34m.\u001b[0m\u001b[0mname\u001b[0m \u001b[0;32min\u001b[0m \u001b[0mnode_names\u001b[0m\u001b[0;34m:\u001b[0m\u001b[0;34m\u001b[0m\u001b[0m\n\u001b[0m\u001b[1;32m    718\u001b[0m                 \u001b[0midx\u001b[0m \u001b[0;34m=\u001b[0m \u001b[0mnode_names\u001b[0m\u001b[0;34m.\u001b[0m\u001b[0mindex\u001b[0m\u001b[0;34m(\u001b[0m\u001b[0mnode\u001b[0m\u001b[0;34m.\u001b[0m\u001b[0mname\u001b[0m\u001b[0;34m)\u001b[0m\u001b[0;34m\u001b[0m\u001b[0m\n\u001b[1;32m    719\u001b[0m                 \u001b[0;32mtry\u001b[0m\u001b[0;34m:\u001b[0m\u001b[0;34m\u001b[0m\u001b[0m\n",
      "\u001b[0;31mAttributeError\u001b[0m: 'function' object has no attribute 'name'"
     ]
    }
   ],
   "source": [
    "# Write the workflow\n",
    "preprocess_t2 = Workflow(name='preprocess_t2')\n",
    "preprocess_t2.connect([(infosource, t1w_source, [('subject_id','subject_id')]),\n",
    "                       (infosource, t2w_source, [('subject_id','subject_id')]),\n",
    "                       (infosource, register, [('subject_id','subject_id')]),\n",
    "                       (t2w_source, t2strip,[('T2anat','in_file')]),\n",
    "                       (t2strip, reorient_t2w,[('out_file','in_file')]),\n",
    "                       (reorient_t2w, bias_correct,[('out_file','input_image')]),\n",
    "                       (bias_correct, register,[('output_image','source_file')]),\n",
    "                       (register, reslice,[('registered_file','in_file')]),\n",
    "                       (t1w_source, reslice,[('T1','reslice_like')]),\n",
    "                       (t1w_source, quantify_ratio,[('T1','T1_file')]),\n",
    "                       (reslice, quantify_ratio,[('out_file','T2_file')]),\n",
    "                       (t2strip, datasink,[('out_file','skullstripped_t2w')]),\n",
    "                       (reslice, datasink,[('out_file','resliced_t2w')]),\n",
    "                       (register, datasink,[('registered_file','registered_t2w')])\n",
    "                       ])\n",
    "\n",
    "preprocess_t2.base_dir = workflow_dir\n",
    "preprocess_t2.write_graph(graph2use='flat')\n",
    "preprocess_t2.run('MultiProc', plugin_args={'n_procs': 2, 'memory_gb': 10})"
   ]
  },
  {
   "cell_type": "markdown",
   "metadata": {},
   "source": [
    "## Resample surfaces"
   ]
  },
  {
   "cell_type": "code",
   "execution_count": null,
   "metadata": {},
   "outputs": [],
   "source": [
    "def resample_surfs(surfs):\n",
    "    return(resampled_surfs)\n",
    "\n",
    "def volume_to_surface_myelin(volume):\n",
    "    return(surface_map)\n"
   ]
  },
  {
   "cell_type": "code",
   "execution_count": null,
   "metadata": {},
   "outputs": [],
   "source": []
  },
  {
   "cell_type": "code",
   "execution_count": null,
   "metadata": {},
   "outputs": [],
   "source": []
  },
  {
   "cell_type": "markdown",
   "metadata": {},
   "source": [
    "## Perform T2 surface registration and compute T1/T2 ratio"
   ]
  },
  {
   "cell_type": "code",
   "execution_count": null,
   "metadata": {},
   "outputs": [],
   "source": []
  },
  {
   "cell_type": "code",
   "execution_count": null,
   "metadata": {},
   "outputs": [],
   "source": []
  },
  {
   "cell_type": "code",
   "execution_count": null,
   "metadata": {},
   "outputs": [],
   "source": []
  }
 ],
 "metadata": {
  "kernelspec": {
   "display_name": "Python 3",
   "language": "python",
   "name": "python3"
  },
  "language_info": {
   "codemirror_mode": {
    "name": "ipython",
    "version": 3
   },
   "file_extension": ".py",
   "mimetype": "text/x-python",
   "name": "python",
   "nbconvert_exporter": "python",
   "pygments_lexer": "ipython3",
   "version": "3.6.5"
  }
 },
 "nbformat": 4,
 "nbformat_minor": 2
}
