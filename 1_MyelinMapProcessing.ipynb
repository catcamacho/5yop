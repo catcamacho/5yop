{
 "cells": [
  {
   "cell_type": "markdown",
   "metadata": {},
   "source": [
    "# Myelin Mapping Notebook\n",
    "\n",
    "These workflows process T1 and T2 weighted images to then be used to quantify cortical myelin content per methods described in Gordon et al., 2017 (doi: 10.1016/j.neuron.2017.07.011)"
   ]
  },
  {
   "cell_type": "code",
   "execution_count": 1,
   "metadata": {},
   "outputs": [],
   "source": [
    "# Import all othe functions/nodes being used\n",
    "from nipype.pipeline.engine import Workflow, Node, MapNode\n",
    "from nipype.interfaces.utility import IdentityInterface, Function\n",
    "from nipype.interfaces.io import SelectFiles, DataSink, DataGrabber\n",
    "from nipype.interfaces.fsl import FSLCommand, BET, Reorient2Std, FAST\n",
    "from nipype.interfaces.freesurfer import BBRegister, Binarize\n",
    "from nipype.interfaces.ants import N4BiasFieldCorrection\n",
    "import networkx\n",
    "import graphviz\n",
    "\n",
    "# Declare study-specific variables\n",
    "setup='Jay'\n",
    "\n",
    "if setup=='Jay':\n",
    "    study_home = '/Users/dendrite/Desktop/Jay'\n",
    "    raw_data = study_home + '/raw'\n",
    "elif setup=='Cat':\n",
    "    study_home = '/moochie/user_data/CamachoCat/5YOP'\n",
    "    raw_data = '/moochie/study_data/5YOP/MRI_processing'\n",
    "    \n",
    "\n",
    "output_dir = study_home + '/proc'\n",
    "workflow_dir = study_home + '/workflows'\n",
    "fs_dir = study_home + '/freesurfer'\n",
    "session_info = read_csv(study_home + '/misc/session_info.csv',index_col=None)\n",
    "\n",
    "subject_ids = session_info['subject_ids'].unique().to_list()\n",
    "\n",
    "# Set any processing settings\n",
    "FSLCommand.set_default_output_type('NIFTI_GZ')"
   ]
  },
  {
   "cell_type": "code",
   "execution_count": 2,
   "metadata": {},
   "outputs": [],
   "source": [
    "# datasink node\n",
    "datasink = Node(DataSink(base_directory=output_dir), name='datasink')"
   ]
  },
  {
   "cell_type": "markdown",
   "metadata": {},
   "source": [
    "## Preprocess T2w data\n",
    "The nodes and workflow below preprocess T2-weighted images to match T1-weighted data processed externally using FreeSurfer v6."
   ]
  },
  {
   "cell_type": "code",
   "execution_count": 3,
   "metadata": {},
   "outputs": [],
   "source": [
    "# Selectfiles node to grab subject T2w data\n",
    "t2w_templates = {'anat': raw_data + '/t2w_2.nii.gz'}\n",
    "t2w_source = Node(SelectFiles(t2w_templates), name='t2w_source')\n",
    "\n",
    "# skullstrip the T2w using BET (FSL)\n",
    "t2strip = Node(BET(), name='t2strip')\n",
    "\n",
    "# N4 bias correction of the T2w data (ANTs)\n",
    "bias_correct = Node(N4BiasFieldCorrection(),name='bias_correct')\n",
    "\n",
    "# Reorient T2w to standard\n",
    "reorient_t2w = Node(Reorient2Std(), name='reorient_t2w')\n",
    "\n",
    "# Register T2w to T1w using FreeSurfer's Boundary-Based Registration\n",
    "register = Node(BBRegister(subject_id = subject_ids[0], subjects_dir = fs_dir, contrast_type='t2'), name='register')\n"
   ]
  },
  {
   "cell_type": "code",
   "execution_count": null,
   "metadata": {},
   "outputs": [],
   "source": [
    "# Write the workflow\n",
    "preprocess_t2 = Workflow(name='preprocess_t2')\n",
    "preprocess_t2.connect([(t2w_source, t2strip,[('anat','in_file')]),\n",
    "                       (t2strip, reorient_t2w,[('out_file','in_file')]),\n",
    "                       (reorient_t2w, bias_correct,[('out_file','input_image')]),\n",
    "                       (bias_correct, register,[('output_image','source_file')]),\n",
    "                       (t2strip, datasink,[('out_file','skullstripped_t2w')]),\n",
    "                       (register, datasink,[('registered_file','registered_t2w')])\n",
    "                       ])\n",
    "\n",
    "preprocess_t2.base_dir = workflow_dir\n",
    "preprocess_t2.write_graph(graph2use='flat')\n",
    "preprocess_t2.run('MultiProc', plugin_args={'n_procs': 2, 'memory_gb': 10})"
   ]
  },
  {
   "cell_type": "markdown",
   "metadata": {},
   "source": [
    "## Coregister T2w to processed and manually edited T1w (via freesurfer)"
   ]
  },
  {
   "cell_type": "code",
   "execution_count": null,
   "metadata": {},
   "outputs": [],
   "source": [
    "# FreeSurferSource node to grab processed T1w data from freesurfer\n",
    "t1w_source = Node(FreeSurferSource(subject_dir=fs_dir, subject_id=subject_ID), name='t1w_source')\n",
    " \n",
    "# Reorient T1w to standard (FSL reorient2std)\n",
    "reorient_t1w = Node(Reorient2Std(), name='reorient_t1w')"
   ]
  },
  {
   "cell_type": "markdown",
   "metadata": {},
   "source": [
    "## Create within subject template and masks"
   ]
  },
  {
   "cell_type": "code",
   "execution_count": null,
   "metadata": {},
   "outputs": [],
   "source": [
    "def create_template(in_files, num_proc, dimensions):\n",
    "    from nipype import config, logging\n",
    "    config.enable_debug_mode()\n",
    "    logging.update_logging(config)\n",
    "    from subprocess import check_call\n",
    "    from os.path import abspath\n",
    "    \n",
    "    check_call(['antsMultivariateTemplateConstruction2.sh','-d',dimensions,'-o','child_','-b','1','-r','1','-c','2','-j',num_proc]+in_files)\n",
    "    template_file = abspath('child_template0.nii.gz')\n",
    "    return(template_file)\n",
    "\n",
    "def make_non_gm_mask(tissue_class_map):\n",
    "    from nipype import config, logging\n",
    "    config.enable_debug_mode()\n",
    "    logging.update_logging(config)\n",
    "    from os.path import abspath\n",
    "    from nibabel import load, save, Nifti1Image\n",
    "    from numpy import zeros_like\n",
    "    \n",
    "    wm_val = 1\n",
    "    csf_val = 2\n",
    "    seg_img = load(tissue_class_map)\n",
    "    seg_data = seg_img.get_data()\n",
    "    new_seg_data = zeros_like(seg_data)\n",
    "    new_seg_data[seg_data==wm_val] = 1\n",
    "    new_seg_data[seg_data==csf_val] = 1\n",
    "    \n",
    "    new_seg_img = Nifti1Image(new_seg_data,header=seg_img.header,affine=seg_img.affine)\n",
    "    save(new_seg_img,'non_gm_mask.nii.gz')\n",
    "    nongm_mask = abspath('non_gm_mask.nii.gz')\n",
    "    \n",
    "    return(nongm_mask)\n",
    "    "
   ]
  },
  {
   "cell_type": "code",
   "execution_count": null,
   "metadata": {},
   "outputs": [],
   "source": [
    "grab_t1ws = Node(SelectFiles(t1w_template), name='grab_t1ws')\n",
    "\n",
    "make_avg = Node(Function(input_names=['in_files','num_proc','dimensions'], \n",
    "                         output_names=['template_file'],\n",
    "                         function=create_template),\n",
    "                name='make_avg')\n",
    "make_avg.inputs.num_proc=6\n",
    "make_avg.inputs.dimensions=3\n",
    "\n",
    "create_mask = Node(BET(mask='mask.nii.gz',no_output=True), name='create_mask')\n",
    "\n",
    "dilate_mask = Node(Binarize(min=0.5, dilate=1, binary_file='mask_D1.nii.gz'),name='dilate_mask')\n",
    "\n",
    "segment_brain = Node(FAST(number_classes=3), name='segment_brain')\n",
    "\n",
    "make_nongm_mask = Node(Function(input_names=['tissue_class_map'],\n",
    "                                output_names=['nongm_mask'],\n",
    "                                function=make_non_gm_mask), \n",
    "                       name='make_nongm_mask')"
   ]
  },
  {
   "cell_type": "code",
   "execution_count": null,
   "metadata": {},
   "outputs": [],
   "source": []
  }
 ],
 "metadata": {
  "kernelspec": {
   "display_name": "Python 3",
   "language": "python",
   "name": "python3"
  },
  "language_info": {
   "codemirror_mode": {
    "name": "ipython",
    "version": 3
   },
   "file_extension": ".py",
   "mimetype": "text/x-python",
   "name": "python",
   "nbconvert_exporter": "python",
   "pygments_lexer": "ipython3",
   "version": "3.7.2"
  }
 },
 "nbformat": 4,
 "nbformat_minor": 2
}
