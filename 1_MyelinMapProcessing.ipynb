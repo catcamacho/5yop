{
 "cells": [
  {
   "cell_type": "markdown",
   "metadata": {},
   "source": [
    "# Myelin Mapping Notebook\n",
    "\n",
    "These workflows process T1 and T2 weighted images to then be used to quantify cortical myelin content per methods described in Gordon et al., 2017 (doi: 10.1016/j.neuron.2017.07.011)"
   ]
  },
  {
   "cell_type": "code",
   "execution_count": null,
   "metadata": {},
   "outputs": [],
   "source": [
    "# Import all othe functions/nodes being used\n",
    "from nipype.pipeline.engine import Workflow, Node, MapNode\n",
    "from nipype.interfaces.utility import IdentityInterface, Function\n",
    "from nipype.interfaces.io import SelectFiles, DataSink, DataGrabber\n",
    "from nipype.interfaces.fsl import FSLCommand, BET, Reorient2Std, BBRegister\n",
    "from nipye.interfaces.ants import N4BiasFieldCorrection\n",
    "\n",
    "# Declare study-specific variables--Jay will change to match the Mac\n",
    "study_home = '/moochie/Cat/Aggregate_anats/GMD_ML'\n",
    "raw_data = study_home + '/raw'\n",
    "output_dir = study_home + '/proc'\n",
    "workflow_dir = study_home + '/workflows'\n",
    "fs_dir = '/somewhere'\n",
    "\n",
    "subjects_list = ['3000']\n",
    "\n",
    "# Set any processing settings\n",
    "FSLCommand.set_default_output_type('NIFTI_GZ')"
   ]
  },
  {
   "cell_type": "code",
   "execution_count": null,
   "metadata": {},
   "outputs": [],
   "source": [
    "# datasink node"
   ]
  },
  {
   "cell_type": "markdown",
   "metadata": {},
   "source": [
    "## Preprocess T2w data\n",
    "The nodes and workflow below preprocess T2-weighted images to match T1-weighted data processed externally using FreeSurfer v6."
   ]
  },
  {
   "cell_type": "raw",
   "metadata": {},
   "source": [
    "# Selectfiles node to grab subject T2w data\n",
    "t2w_templates = {'loc': raw_data}\n",
    "t2w = Node(SelectFiles(t2w_templates, base_directory = study_home), name='t2w')\n",
    "\n",
    "# skullstrip the T2w using BET (FSL)\n",
    "t2strip = fsl.BET()\n",
    "\n",
    "# FreeSurferSource node to grab processed T1w data from freesurfer\n",
    "t1w = Node(FreeSurferSource(subject_dir=fs_dir), name='t1w')\n",
    "\n",
    "# N4 bias correction of the T1w data (ANTs)\n",
    "bias_correct = Node(N4BiasFieldCorrection(save_bias=True),name='bias_correct')\n",
    "\n",
    "# Reorient T1w to standard (FSL reorient2std)\n",
    "reorient_t1w = Node(Reorient2Std())\n",
    "\n",
    "# Reorient T2w to standard\n",
    "reorient_t2w = Node(Reorient2Std())\n",
    "\n",
    "# Register T2w to T1w using FreeSurfer's Boundary-Based Registration\n",
    "register = Node(BBRegister(subject_id = subjects_list[0))\n"
   ]
  },
  {
   "cell_type": "code",
   "execution_count": null,
   "metadata": {},
   "outputs": [],
   "source": [
    "# Write the workflow\n",
    "register = Workflow(name='register')\n",
    "register.connect\n",
    "([\n",
    "    (t2w, t2strip,[('loc','in_file')]),\n",
    "    (t2strip, reorient_t2w,[('out_file','in_file')]),\n",
    "    (t1w, bias_correct,[('T1','input_image')]),\n",
    "    (bias_corrent, reorient_t1w,[('output_image','in_file')]),\n",
    "    (reorient_t1w, register,[('out_file','init_reg_file')]),\n",
    "    (reorient_t2w, register,[('out_file','source_file')]),\n",
    "])"
   ]
  }
 ],
 "metadata": {
  "kernelspec": {
   "display_name": "Python 3",
   "language": "python",
   "name": "python3"
  },
  "language_info": {
   "codemirror_mode": {
    "name": "ipython",
    "version": 3
   },
   "file_extension": ".py",
   "mimetype": "text/x-python",
   "name": "python",
   "nbconvert_exporter": "python",
   "pygments_lexer": "ipython3",
   "version": "3.7.4"
  }
 },
 "nbformat": 4,
 "nbformat_minor": 2
}
