{
 "cells": [
  {
   "cell_type": "markdown",
   "metadata": {},
   "source": [
    "# Myelin Mapping Notebook\n",
    "\n",
    "These workflows process T1 and T2 weighted images to then be used to quantify cortical myelin content per methods described in Gordon et al., 2017 (doi: 10.1016/j.neuron.2017.07.011)"
   ]
  },
  {
   "cell_type": "code",
   "execution_count": 1,
   "metadata": {},
   "outputs": [
    {
     "name": "stdout",
     "output_type": "stream",
     "text": [
      "200102-14:53:26,635 nipype.utils INFO:\n",
      "\t Running nipype version 1.2.3 (latest: 1.4.0)\n"
     ]
    }
   ],
   "source": [
    "# Import all othe functions/nodes being used\n",
    "from nipype.pipeline.engine import Workflow, Node, MapNode\n",
    "from nipype.interfaces.utility import IdentityInterface, Function\n",
    "from nipype.interfaces.io import SelectFiles, DataSink, DataGrabber\n",
    "from nipype.interfaces.fsl import FSLCommand, BET, Reorient2Std, FAST\n",
    "from nipype.interfaces.freesurfer import BBRegister, Binarize, ReconAll\n",
    "from nipype.interfaces.ants import N4BiasFieldCorrection\n",
    "from pandas import read_csv\n",
    "\n",
    "# Declare study-specific variables\n",
    "setup='Cat'\n",
    "\n",
    "if setup=='Jay':\n",
    "    study_home = '/Users/dendrite/Desktop/Jay'\n",
    "    raw_data = study_home + '/raw'\n",
    "elif setup=='Cat':\n",
    "    study_home = '/moochie/user_data/CamachoCat/5YOP'\n",
    "    raw_data = '/moochie/study_data/5YOP/MRI_processing'\n",
    "    \n",
    "output_dir = study_home + '/proc'\n",
    "workflow_dir = study_home + '/workflows'\n",
    "fs_dir = study_home + '/freesurfer'\n",
    "session_info = read_csv(study_home + '/misc/session_info.csv',index_col=None)\n",
    "\n",
    "subject_ids = session_info['subject_id'].unique().tolist()\n",
    "subject_ids = map(str,subject_ids)\n",
    "\n",
    "# Set any processing settings\n",
    "FSLCommand.set_default_output_type('NIFTI_GZ')"
   ]
  },
  {
   "cell_type": "code",
   "execution_count": 2,
   "metadata": {},
   "outputs": [],
   "source": [
    "# Identity node- select subjects\n",
    "infosource = Node(IdentityInterface(fields=['subject_id']),\n",
    "                     name='infosource')\n",
    "infosource.iterables = ('subject_id', subject_ids)\n",
    "\n",
    "# Selectfiles node to grab subject T2w data\n",
    "t2w_templates = {'T2anat': raw_data + '/{subject_id}/ANAT_NIFTIS/t2w_2.nii.gz'}\n",
    "t2w_source = Node(SelectFiles(t2w_templates), name='t2w_source')\n",
    "\n",
    "# datasink node\n",
    "datasink = Node(DataSink(base_directory=output_dir), name='datasink')"
   ]
  },
  {
   "cell_type": "markdown",
   "metadata": {},
   "source": [
    "## Preprocess T1w data"
   ]
  },
  {
   "cell_type": "code",
   "execution_count": 3,
   "metadata": {},
   "outputs": [],
   "source": [
    "# grab raw T1-weighted images and process through freesurfer\n",
    "t1w_template = {'t1_anats':raw_data + '/%s/ANAT_NIFTIS/t1w_*.nii.gz'}\n",
    "t1w_source = Node(DataGrabber(base_directory = raw_data, \n",
    "                              field_template = t1w_template,\n",
    "                              template=raw_data + '/%s/ANAT_NIFTIS/t1w_*.nii.gz',\n",
    "                              sort_filelist=True,\n",
    "                              in_fields=['subject_id'],\n",
    "                              outfields=['t1_anats'],\n",
    "                              template_args={'t1_anats':[['subject_id']]}), \n",
    "                  name='t1w_source')\n",
    "\n",
    "#process through recon-all\n",
    "reconall = Node(ReconAll(directive='all',flags='-gcut',openmp=4,\n",
    "                         subjects_dir=fs_dir,use_T2=True), name='reconall')"
   ]
  },
  {
   "cell_type": "code",
   "execution_count": null,
   "metadata": {},
   "outputs": [
    {
     "name": "stdout",
     "output_type": "stream",
     "text": [
      "200102-14:53:30,526 nipype.workflow INFO:\n",
      "\t Generated workflow graph: /moochie/user_data/CamachoCat/5YOP/workflows/freesurfer_proc_flow/graph.png (graph2use=flat, simple_form=True).\n",
      "200102-14:53:30,546 nipype.workflow INFO:\n",
      "\t Workflow freesurfer_proc_flow settings: ['check', 'execution', 'logging', 'monitoring']\n",
      "200102-14:53:30,577 nipype.workflow INFO:\n",
      "\t Running in parallel.\n",
      "200102-14:53:30,581 nipype.workflow INFO:\n",
      "\t [MultiProc] Running 0 tasks, and 4 jobs ready. Free memory (GB): 20.00/20.00, Free processors: 3/3.\n",
      "200102-14:53:30,697 nipype.workflow INFO:\n",
      "\t [Node] Setting-up \"freesurfer_proc_flow.t2w_source\" in \"/moochie/user_data/CamachoCat/5YOP/workflows/freesurfer_proc_flow/_subject_id_4000/t2w_source\".\n",
      "200102-14:53:30,698 nipype.workflow INFO:\n",
      "\t [Node] Setting-up \"freesurfer_proc_flow.t2w_source\" in \"/moochie/user_data/CamachoCat/5YOP/workflows/freesurfer_proc_flow/_subject_id_3000/t2w_source\".\n",
      "200102-14:53:30,699 nipype.workflow INFO:\n",
      "\t [Node] Setting-up \"freesurfer_proc_flow.t1w_source\" in \"/moochie/user_data/CamachoCat/5YOP/workflows/freesurfer_proc_flow/_subject_id_4000/t1w_source\".\n",
      "200102-14:53:30,831 nipype.workflow INFO:\n",
      "\t [Node] Running \"t2w_source\" (\"nipype.interfaces.io.SelectFiles\")\n",
      "200102-14:53:30,837 nipype.workflow INFO:\n",
      "\t [Node] Running \"t2w_source\" (\"nipype.interfaces.io.SelectFiles\")\n",
      "200102-14:53:30,838 nipype.workflow INFO:\n",
      "\t [Node] Running \"t1w_source\" (\"nipype.interfaces.io.DataGrabber\")\n",
      "200102-14:53:30,893 nipype.workflow INFO:\n",
      "\t [Node] Finished \"freesurfer_proc_flow.t2w_source\".\n",
      "200102-14:53:30,902 nipype.workflow INFO:\n",
      "\t [Node] Finished \"freesurfer_proc_flow.t2w_source\".\n",
      "200102-14:53:30,905 nipype.workflow INFO:\n",
      "\t [Node] Finished \"freesurfer_proc_flow.t1w_source\".\n",
      "200102-14:53:32,585 nipype.workflow INFO:\n",
      "\t [Job 0] Completed (freesurfer_proc_flow.t2w_source).\n",
      "200102-14:53:32,590 nipype.workflow INFO:\n",
      "\t [Job 1] Completed (freesurfer_proc_flow.t1w_source).\n",
      "200102-14:53:32,593 nipype.workflow INFO:\n",
      "\t [Job 3] Completed (freesurfer_proc_flow.t2w_source).\n",
      "200102-14:53:32,596 nipype.workflow INFO:\n",
      "\t [MultiProc] Running 0 tasks, and 2 jobs ready. Free memory (GB): 20.00/20.00, Free processors: 3/3.\n",
      "200102-14:53:32,722 nipype.workflow INFO:\n",
      "\t [Node] Setting-up \"freesurfer_proc_flow.reconall\" in \"/moochie/user_data/CamachoCat/5YOP/workflows/freesurfer_proc_flow/_subject_id_4000/reconall\".\n",
      "200102-14:53:32,727 nipype.workflow INFO:\n",
      "\t [Node] Setting-up \"freesurfer_proc_flow.t1w_source\" in \"/moochie/user_data/CamachoCat/5YOP/workflows/freesurfer_proc_flow/_subject_id_3000/t1w_source\".\n",
      "200102-14:53:32,777 nipype.workflow INFO:\n",
      "\t [Node] Running \"t1w_source\" (\"nipype.interfaces.io.DataGrabber\")\n",
      "200102-14:53:32,818 nipype.workflow INFO:\n",
      "\t [Node] Running \"reconall\" (\"nipype.interfaces.freesurfer.preprocess.ReconAll\"), a CommandLine Interface with command:\n",
      "recon-all -all -i /moochie/study_data/5YOP/MRI_processing/4000/ANAT_NIFTIS/t1w_1.nii.gz -i /moochie/study_data/5YOP/MRI_processing/4000/ANAT_NIFTIS/t1w_2.nii.gz -i /moochie/study_data/5YOP/MRI_processing/4000/ANAT_NIFTIS/t1w_3.nii.gz -i /moochie/study_data/5YOP/MRI_processing/4000/ANAT_NIFTIS/t1w_4.nii.gz -T2 /moochie/study_data/5YOP/MRI_processing/4000/ANAT_NIFTIS/t2w_2.nii.gz -gcut -openmp 4 -subjid 4000 -sd /moochie/user_data/CamachoCat/5YOP/freesurfer -T2pial\n",
      "200102-14:53:32,890 nipype.workflow INFO:\n",
      "\t [Node] Finished \"freesurfer_proc_flow.t1w_source\".\n",
      "200102-14:53:34,586 nipype.workflow INFO:\n",
      "\t [Job 4] Completed (freesurfer_proc_flow.t1w_source).\n",
      "200102-14:53:34,591 nipype.workflow INFO:\n",
      "\t [MultiProc] Running 1 tasks, and 1 jobs ready. Free memory (GB): 19.80/20.00, Free processors: 2/3.\n",
      "                     Currently running:\n",
      "                       * freesurfer_proc_flow.reconall\n",
      "200102-14:53:34,666 nipype.workflow INFO:\n",
      "\t [Node] Setting-up \"freesurfer_proc_flow.reconall\" in \"/moochie/user_data/CamachoCat/5YOP/workflows/freesurfer_proc_flow/_subject_id_3000/reconall\".\n",
      "200102-14:53:34,739 nipype.workflow INFO:\n",
      "\t [Node] Running \"reconall\" (\"nipype.interfaces.freesurfer.preprocess.ReconAll\"), a CommandLine Interface with command:\n",
      "recon-all -all -i /moochie/study_data/5YOP/MRI_processing/3000/ANAT_NIFTIS/t1w_0.nii.gz -i /moochie/study_data/5YOP/MRI_processing/3000/ANAT_NIFTIS/t1w_1.nii.gz -i /moochie/study_data/5YOP/MRI_processing/3000/ANAT_NIFTIS/t1w_2.nii.gz -i /moochie/study_data/5YOP/MRI_processing/3000/ANAT_NIFTIS/t1w_3.nii.gz -i /moochie/study_data/5YOP/MRI_processing/3000/ANAT_NIFTIS/t1w_4.nii.gz -T2 /moochie/study_data/5YOP/MRI_processing/3000/ANAT_NIFTIS/t2w_2.nii.gz -gcut -openmp 4 -subjid 3000 -sd /moochie/user_data/CamachoCat/5YOP/freesurfer -T2pial\n",
      "200102-14:53:36,589 nipype.workflow INFO:\n",
      "\t [MultiProc] Running 2 tasks, and 0 jobs ready. Free memory (GB): 19.60/20.00, Free processors: 1/3.\n",
      "                     Currently running:\n",
      "                       * freesurfer_proc_flow.reconall\n",
      "                       * freesurfer_proc_flow.reconall\n"
     ]
    }
   ],
   "source": [
    "fs_proc = Workflow(name='freesurfer_proc_flow')\n",
    "fs_proc.connect([(infosource, t1w_source, [('subject_id','subject_id')]),\n",
    "                 (infosource, t2w_source, [('subject_id','subject_id')]),\n",
    "                 (infosource, reconall, [('subject_id','subject_id')]),\n",
    "                 (t1w_source, reconall, [('t1_anats','T1_files')]), \n",
    "                 (t2w_source, reconall, [('T2anat','T2_file')])\n",
    "                ])\n",
    "fs_proc.base_dir = workflow_dir\n",
    "fs_proc.write_graph(graph2use='flat')\n",
    "fs_proc.run('MultiProc', plugin_args={'n_procs': 10, 'memory_gb': 20})"
   ]
  },
  {
   "cell_type": "markdown",
   "metadata": {},
   "source": [
    "## Preprocess T2w data\n",
    "The nodes and workflow below preprocess T2-weighted images to match T1-weighted data processed externally using FreeSurfer v6."
   ]
  },
  {
   "cell_type": "code",
   "execution_count": null,
   "metadata": {},
   "outputs": [],
   "source": [
    "# FreeSurferSource node to grab processed T1w data from freesurfer\n",
    "t1w_source = Node(FreeSurferSource(subject_dir=fs_dir), name='t1w_source')\n",
    "\n",
    "# skullstrip the T2w using BET (FSL)\n",
    "t2strip = Node(BET(), name='t2strip')\n",
    "\n",
    "# N4 bias correction of the T2w data (ANTs)\n",
    "bias_correct = Node(N4BiasFieldCorrection(),name='bias_correct')\n",
    "\n",
    "# Reorient T2w to standard\n",
    "reorient_t2w = Node(Reorient2Std(), name='reorient_t2w')\n",
    "\n",
    "# Register T2w to T1w using FreeSurfer's Boundary-Based Registration\n",
    "register = Node(BBRegister(subjects_dir = fs_dir, contrast_type='t2'), name='register')"
   ]
  },
  {
   "cell_type": "code",
   "execution_count": null,
   "metadata": {},
   "outputs": [],
   "source": [
    "# Write the workflow\n",
    "preprocess_t2 = Workflow(name='preprocess_t2')\n",
    "preprocess_t2.connect([(infosource, t1w_source, [('subject_id','subject_id')]),\n",
    "                       (infosource, t2w_source, [('subject_id','subject_id')]),\n",
    "                       (infosource, register, [('subject_id','subject_id')]),\n",
    "                       (t2w_source, t2strip,[('T2_anat','in_file')]),\n",
    "                       (t2strip, reorient_t2w,[('out_file','in_file')]),\n",
    "                       (reorient_t2w, bias_correct,[('out_file','input_image')]),\n",
    "                       (bias_correct, register,[('output_image','source_file')]),\n",
    "                       (t2strip, datasink,[('out_file','skullstripped_t2w')]),\n",
    "                       (register, datasink,[('registered_file','registered_t2w')])\n",
    "                       ])\n",
    "\n",
    "preprocess_t2.base_dir = workflow_dir\n",
    "preprocess_t2.write_graph(graph2use='flat')\n",
    "preprocess_t2.run('MultiProc', plugin_args={'n_procs': 2, 'memory_gb': 10})"
   ]
  },
  {
   "cell_type": "markdown",
   "metadata": {},
   "source": [
    "## Resample surfaces"
   ]
  },
  {
   "cell_type": "code",
   "execution_count": null,
   "metadata": {},
   "outputs": [],
   "source": [
    "def resample_surfs(surfs):\n",
    "    return(resampled_surfs)\n",
    "\n",
    "def volume_to_surface_myelin(volume):\n",
    "    return(surface_map)\n"
   ]
  },
  {
   "cell_type": "markdown",
   "metadata": {},
   "source": [
    "## Create within subject template and masks"
   ]
  },
  {
   "cell_type": "code",
   "execution_count": null,
   "metadata": {},
   "outputs": [],
   "source": [
    "def make_non_gm_mask(tissue_class_map):\n",
    "    from nipype import config, logging\n",
    "    config.enable_debug_mode()\n",
    "    logging.update_logging(config)\n",
    "    from os.path import abspath\n",
    "    from nibabel import load, save, Nifti1Image\n",
    "    from numpy import zeros_like\n",
    "    \n",
    "    wm_val = 1\n",
    "    csf_val = 2\n",
    "    seg_img = load(tissue_class_map)\n",
    "    seg_data = seg_img.get_data()\n",
    "    new_seg_data = zeros_like(seg_data)\n",
    "    new_seg_data[seg_data==wm_val] = 1\n",
    "    new_seg_data[seg_data==csf_val] = 1\n",
    "    \n",
    "    new_seg_img = Nifti1Image(new_seg_data,header=seg_img.header,affine=seg_img.affine)\n",
    "    save(new_seg_img,'non_gm_mask.nii.gz')\n",
    "    nongm_mask = abspath('non_gm_mask.nii.gz')\n",
    "    \n",
    "    return(nongm_mask)\n",
    "    "
   ]
  },
  {
   "cell_type": "code",
   "execution_count": null,
   "metadata": {},
   "outputs": [],
   "source": [
    "grab_t1ws = Node(SelectFiles(t1w_template), name='grab_t1ws')\n",
    "\n",
    "make_avg = Node(Function(input_names=['in_files','num_proc','dimensions'], \n",
    "                         output_names=['template_file'],\n",
    "                         function=create_template),\n",
    "                name='make_avg')\n",
    "make_avg.inputs.num_proc=6\n",
    "make_avg.inputs.dimensions=3\n",
    "\n",
    "create_mask = Node(BET(mask='mask.nii.gz',no_output=True), name='create_mask')\n",
    "\n",
    "dilate_mask = Node(Binarize(min=0.5, dilate=1, binary_file='mask_D1.nii.gz'),name='dilate_mask')\n",
    "\n",
    "segment_brain = Node(FAST(number_classes=3), name='segment_brain')\n",
    "\n",
    "make_nongm_mask = Node(Function(input_names=['tissue_class_map'],\n",
    "                                output_names=['nongm_mask'],\n",
    "                                function=make_non_gm_mask), \n",
    "                       name='make_nongm_mask')"
   ]
  },
  {
   "cell_type": "code",
   "execution_count": null,
   "metadata": {},
   "outputs": [],
   "source": []
  }
 ],
 "metadata": {
  "kernelspec": {
   "display_name": "Python 3.7",
   "language": "python",
   "name": "python3.7"
  },
  "language_info": {
   "codemirror_mode": {
    "name": "ipython",
    "version": 3
   },
   "file_extension": ".py",
   "mimetype": "text/x-python",
   "name": "python",
   "nbconvert_exporter": "python",
   "pygments_lexer": "ipython3",
   "version": "3.7.5"
  }
 },
 "nbformat": 4,
 "nbformat_minor": 2
}
